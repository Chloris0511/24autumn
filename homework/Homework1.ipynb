{
 "cells": [
  {
   "cell_type": "markdown",
   "metadata": {},
   "source": [
    "1. 编写Python程序，打印\"数据科学与工程导论\"，并使用 print(chr(0x2605)) 语句将星星包围起来。"
   ]
  },
  {
   "cell_type": "code",
   "execution_count": 5,
   "metadata": {},
   "outputs": [
    {
     "name": "stdout",
     "output_type": "stream",
     "text": [
      "★数据科学与工程导论★\n"
     ]
    }
   ],
   "source": [
    "print(chr(0x2605)+ \"数据科学与工程导论\" +chr(0x2605))"
   ]
  },
  {
   "cell_type": "markdown",
   "metadata": {},
   "source": [
    "2. 写一个 Python 程序，输入 x, y, z 这三个数，将这三个数从小到大使用 print 函数打印出来。"
   ]
  },
  {
   "cell_type": "code",
   "execution_count": 1,
   "metadata": {},
   "outputs": [
    {
     "name": "stdout",
     "output_type": "stream",
     "text": [
      "从小到大的顺序: [3, 12, 24]\n"
     ]
    }
   ],
   "source": [
    "x = int(input(\"请输入第一个数：\"))\n",
    "y = int(input(\"请输入第二个数：\"))\n",
    "z = int(input(\"请输入第三个数：\"))\n",
    "\n",
    "numbers = [x, y, z]\n",
    "sorted_numbers = sorted(numbers)  #sorted返回以一个新序列，sort直接改变原序列\n",
    "\n",
    "print(\"从小到大的顺序:\", sorted_numbers)"
   ]
  },
  {
   "cell_type": "markdown",
   "metadata": {},
   "source": [
    "3. 写一个 Python 程序，有 w, x, y, z 四个数，将这四个数从大到小使用 print 函数打印出来。"
   ]
  },
  {
   "cell_type": "code",
   "execution_count": 2,
   "metadata": {},
   "outputs": [
    {
     "name": "stdout",
     "output_type": "stream",
     "text": [
      "从大到小的顺序: [45, 23, 3, 1]\n"
     ]
    }
   ],
   "source": [
    "x = int(input(\"请输入第一个数：\"))\n",
    "y = int(input(\"请输入第二个数：\"))\n",
    "z = int(input(\"请输入第三个数：\"))\n",
    "w = int(input(\"请输入第四个数：\"))\n",
    "\n",
    "numbers = [w, x, y, z]\n",
    "\n",
    "#降序用true\n",
    "numbers.sort(reverse=True)\n",
    "\n",
    "print(\"从大到小的顺序:\", numbers)"
   ]
  },
  {
   "cell_type": "markdown",
   "metadata": {},
   "source": [
    "4. 写一个 Python 程序，输出 1-100 中的所有奇数。"
   ]
  },
  {
   "cell_type": "code",
   "execution_count": 7,
   "metadata": {},
   "outputs": [
    {
     "name": "stdout",
     "output_type": "stream",
     "text": [
      "1 3 5 7 9 11 13 15 17 19 21 23 25 27 29 31 33 35 37 39 41 43 45 47 49 51 53 55 57 59 61 63 65 67 69 71 73 75 77 79 81 83 85 87 89 91 93 95 97 99 "
     ]
    }
   ],
   "source": [
    "number = 1\n",
    "\n",
    "while number < 101:\n",
    "    if number % 2 == 1:\n",
    "        print(number,end = ' ')\n",
    "    number += 1"
   ]
  },
  {
   "cell_type": "markdown",
   "metadata": {},
   "source": [
    "5. 写一个 Python 程序，用 for 循环，求解 1 到 100 的和。"
   ]
  },
  {
   "cell_type": "code",
   "execution_count": 12,
   "metadata": {},
   "outputs": [
    {
     "name": "stdout",
     "output_type": "stream",
     "text": [
      "5050\n"
     ]
    }
   ],
   "source": [
    "sum = 0\n",
    "\n",
    "for i in range(1,101):\n",
    "    sum += i\n",
    "\n",
    "print(sum)"
   ]
  },
  {
   "cell_type": "markdown",
   "metadata": {},
   "source": [
    "6. 写一个 Python 程序，分别用 for 和 while 循环实现对一个给定序列的倒排序输出。例如，给定 L=[1,2,3,4,5]，输出为 [5,4,3,2,1]。"
   ]
  },
  {
   "cell_type": "code",
   "execution_count": 11,
   "metadata": {},
   "outputs": [
    {
     "name": "stdout",
     "output_type": "stream",
     "text": [
      "[5, 4, 3, 2, 1]\n"
     ]
    }
   ],
   "source": [
    "def reversesequence(L):\n",
    "    output_L = []\n",
    "    for i in range(len(L)-1 , -1 , -1):\n",
    "        output_L.append(L[i])\n",
    "    return output_L\n",
    "\n",
    "input_L = input(\"请输入数组元素，用空格分开：\")\n",
    "\n",
    "L = [int(item) for item in input_L.split()]\n",
    "\n",
    "print(reversesequence(L))"
   ]
  },
  {
   "cell_type": "markdown",
   "metadata": {},
   "source": [
    "7. 写一个 Python 程序，判断一个输入的字符串 S 是否包含由两个或两个以上连续出现的相同字符组成的字符串。例如，abccccda 中就包含 cccc 这个由 4 个连续字符组成的字符串。"
   ]
  },
  {
   "cell_type": "code",
   "execution_count": 4,
   "metadata": {},
   "outputs": [
    {
     "name": "stdout",
     "output_type": "stream",
     "text": [
      "字符串中包含两个或两个以上连续出现的相同字符。\n"
     ]
    }
   ],
   "source": [
    "S = input(\"请输入一个字符串：\")\n",
    "\n",
    "def repeated(s):\n",
    "    for i in range(len(s)-1):\n",
    "        if s[i] == s[i+1]:\n",
    "            count = 2\n",
    "            while i+1<len(s) and s[i+1] == s[i+2]:\n",
    "                count += 1\n",
    "                i += 1\n",
    "            if count >= 2:\n",
    "                return True\n",
    "    return False\n",
    "\n",
    "if repeated(S):\n",
    "    print(\"字符串中包含两个或两个以上连续出现的相同字符。\")\n",
    "else:\n",
    "    print(\"字符串中不包含这样的字符。\")"
   ]
  },
  {
   "cell_type": "markdown",
   "metadata": {},
   "source": [
    "8. 写一个 Python 程序，输入一个字符串 S，去掉其中所有的空格后输出。例如，“DataScience and Engineering”，去掉空格后为“DataScienceandEngineering”。"
   ]
  },
  {
   "cell_type": "code",
   "execution_count": 7,
   "metadata": {},
   "outputs": [
    {
     "name": "stdout",
     "output_type": "stream",
     "text": [
      "DataScienceandEngineering\n"
     ]
    }
   ],
   "source": [
    "def remove(s):\n",
    "    return s.replace(\" \",\"\")\n",
    "\n",
    "s = input(\"请输入一串字符：\")\n",
    "\n",
    "output_s = remove(s)\n",
    "print(output_s)"
   ]
  },
  {
   "cell_type": "markdown",
   "metadata": {},
   "source": [
    "9. 请设计一个求 3 次方根的算法（不允许直接调用求方根的函数），并给出对应的 Python 程序。\n",
    "采用牛顿迭代法求解，迭代过程数学公式表示为：\n",
    "$ x_{n+1}=x_n-\\frac{f(x_n)}{f^{\\prime}(x_n)}$"
   ]
  },
  {
   "cell_type": "code",
   "execution_count": 9,
   "metadata": {},
   "outputs": [
    {
     "name": "stdout",
     "output_type": "stream",
     "text": [
      "27.0的三次方根是：3.0\n"
     ]
    }
   ],
   "source": [
    "def newton(a, tolerance=1e-7, max_iterations=1000):\n",
    "    #a是要求三次方根的数\n",
    "    #tolerance是最终的精度\n",
    "    #max_iterations是最大迭代次数\n",
    "\n",
    "    if a == 0:\n",
    "        return 0\n",
    "    \n",
    "    if a >= 1:\n",
    "        x = a\n",
    "    else:\n",
    "        x = 1.0  #猜测初始值\n",
    "    \n",
    "    for i in range(max_iterations):\n",
    "        next_x = x - (x**3 - a)/(3 * x**2)\n",
    "        if abs(next_x - x) < tolerance:\n",
    "            return next_x\n",
    "        x = next_x\n",
    "    \n",
    "    return x\n",
    "\n",
    "A = float(input(\"请输入要计算三次方根的数字：\"))\n",
    "root = newton(A)\n",
    "\n",
    "print(f\"{A}的三次方根是：{root}\")"
   ]
  },
  {
   "cell_type": "markdown",
   "metadata": {},
   "source": [
    "10. 写一个 Python 程序，给定一个常数 n（n>0），求 n 的阶乘，即 n!=1×2×...×(n-1)×n。例如，4!=24，5!=120。"
   ]
  },
  {
   "cell_type": "code",
   "execution_count": 5,
   "metadata": {},
   "outputs": [
    {
     "name": "stdout",
     "output_type": "stream",
     "text": [
      "24\n"
     ]
    }
   ],
   "source": [
    "n_input = input(\"请输入一个整数：\")\n",
    "n = int(n_input)\n",
    "a = 1\n",
    "\n",
    "while n >= 1 :\n",
    "    a = a * n\n",
    "    n -= 1\n",
    "\n",
    "print(a)"
   ]
  }
 ],
 "metadata": {
  "kernelspec": {
   "display_name": "Python 3",
   "language": "python",
   "name": "python3"
  },
  "language_info": {
   "codemirror_mode": {
    "name": "ipython",
    "version": 3
   },
   "file_extension": ".py",
   "mimetype": "text/x-python",
   "name": "python",
   "nbconvert_exporter": "python",
   "pygments_lexer": "ipython3",
   "version": "3.12.2"
  }
 },
 "nbformat": 4,
 "nbformat_minor": 2
}
