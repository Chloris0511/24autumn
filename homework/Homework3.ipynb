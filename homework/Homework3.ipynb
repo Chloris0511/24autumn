{
 "cells": [
  {
   "cell_type": "markdown",
   "metadata": {},
   "source": [
    "1.编写 Python程序,判断输入a是否为质数"
   ]
  },
  {
   "cell_type": "code",
   "execution_count": 2,
   "metadata": {},
   "outputs": [
    {
     "name": "stdout",
     "output_type": "stream",
     "text": [
      "361不是质数\n"
     ]
    }
   ],
   "source": [
    "def is_prime(a):\n",
    "    if a <= 1:\n",
    "        return False\n",
    "    for i in range(2, int(a**0.5)+1):\n",
    "        if a % i == 0:\n",
    "            return False  \n",
    "    return True\n",
    "\n",
    "a = int(input(\"请输入一个整数：\"))\n",
    "if is_prime(a):\n",
    "    print(f\"{a}是质数\")\n",
    "else:\n",
    "    print(f\"{a}不是质数\")\n"
   ]
  },
  {
   "cell_type": "markdown",
   "metadata": {},
   "source": [
    "2.用Python实现插入排序该算法，不允许直接调用插入排序函数，需要手动实现其逻辑过程。"
   ]
  },
  {
   "cell_type": "code",
   "execution_count": 6,
   "metadata": {},
   "outputs": [
    {
     "name": "stdout",
     "output_type": "stream",
     "text": [
      "排序后的数组： [1, 2, 4, 6, 11, 23]\n"
     ]
    }
   ],
   "source": [
    "def Insertsort(arr):\n",
    "    l = len(arr)\n",
    "    for i in range(1, l):\n",
    "        key = arr[i]\n",
    "        j = i - 1\n",
    "        while j >= 0 and key < arr[j]:\n",
    "            arr[j+1] = arr[j]\n",
    "            j -= 1\n",
    "        arr[j+1] = key\n",
    "    \n",
    "    return arr\n",
    "\n",
    "arr = input(\"请输入一个数组，各元素之间用空格隔开：\").split()\n",
    "arr = [int(i) for i in arr]\n",
    "\n",
    "sorted_arr = Insertsort(arr)\n",
    "\n",
    "print(\"排序后的数组：\", sorted_arr)"
   ]
  },
  {
   "cell_type": "markdown",
   "metadata": {},
   "source": [
    "3.用Python实现选择排序该算法，不允许直接调用选择排序函数，需要手动实现其逻辑过程。"
   ]
  },
  {
   "cell_type": "code",
   "execution_count": 5,
   "metadata": {},
   "outputs": [
    {
     "name": "stdout",
     "output_type": "stream",
     "text": [
      "排序后的数组： [2, 3, 4, 8, 12, 19, 24, 34]\n"
     ]
    }
   ],
   "source": [
    "def selection_sort(arr):\n",
    "    for i in range(len(arr) - 1):\n",
    "        min_index = i\n",
    "        for j in range(i, len(arr)):\n",
    "            if arr[j] < arr[min_index]:\n",
    "                min_index = j\n",
    "        if i != min_index:\n",
    "            arr[i], arr[min_index] = arr[min_index], arr[i]\n",
    "        \n",
    "    return arr\n",
    "\n",
    "arr = input(\"请输入一个数组，各元素之间用空格隔开：\").split()\n",
    "arr = [int(i) for i in arr]\n",
    "\n",
    "sorted_arr = selection_sort(arr)\n",
    "\n",
    "print(\"排序后的数组：\", sorted_arr)"
   ]
  },
  {
   "cell_type": "markdown",
   "metadata": {},
   "source": [
    "4.用Python实现快速排序该算法，不允许直接调用快速排序函数，需要手动实现其逻辑过程。"
   ]
  },
  {
   "cell_type": "code",
   "execution_count": 8,
   "metadata": {},
   "outputs": [
    {
     "name": "stdout",
     "output_type": "stream",
     "text": [
      "排序后的数组： [1, 2, 3, 5, 12, 34, 43]\n"
     ]
    }
   ],
   "source": [
    "def partition(arr, p, r):\n",
    "    pivot = arr[r]\n",
    "    i = p - 1\n",
    "\n",
    "    for j in range(p, r):\n",
    "        if arr[j] <= pivot:\n",
    "            i += 1\n",
    "            arr[i], arr[j] = arr[j], arr[i]\n",
    "        \n",
    "    arr[i+1], arr[r] = arr[r], arr[i+1]\n",
    "    return i+1\n",
    "\n",
    "def quicksort(arr, p, r):\n",
    "    if p < r:\n",
    "        pi = partition(arr, p, r)\n",
    "\n",
    "        quicksort(arr, p, pi-1)\n",
    "        quicksort(arr, pi+1, r)\n",
    "\n",
    "arr = input(\"请输入一个数组，各元素之间用空格隔开：\").split()\n",
    "arr = [int(i) for i in arr]\n",
    "quicksort(arr, 0, len(arr)-1)\n",
    "\n",
    "print(\"排序后的数组：\", arr)"
   ]
  },
  {
   "cell_type": "markdown",
   "metadata": {},
   "source": [
    "5.使用 Python 随机生成三组长度递增的随机数列，长度分别为100、1000、10000，对生成的随机数组使用不同的排序算法，例如选择排序和归并排序，至少三种排序方法。对这些数列的数据排序，并分析不同排序算法在不同长度数列下的运行效果，例如运行时间等指标。（可以使用排序函数）"
   ]
  },
  {
   "cell_type": "code",
   "execution_count": 4,
   "metadata": {},
   "outputs": [
    {
     "name": "stdout",
     "output_type": "stream",
     "text": [
      "Insertsort:\n",
      " 数列长度 100: 0.000000 秒\n",
      " 数列长度 1000: 0.007341 秒\n",
      " 数列长度 10000: 1.679604 秒\n",
      "selection_sort:\n",
      " 数列长度 100: 0.000000 秒\n",
      " 数列长度 1000: 0.016001 秒\n",
      " 数列长度 10000: 1.788097 秒\n",
      "merge_sort:\n",
      " 数列长度 100: 0.000000 秒\n",
      " 数列长度 1000: 0.000000 秒\n",
      " 数列长度 10000: 0.016221 秒\n"
     ]
    }
   ],
   "source": [
    "import numpy as np\n",
    "import time\n",
    "import random\n",
    "\n",
    "list_100 = np.random.randint(0, 10000, 100).tolist()\n",
    "list_1000 = np.random.randint(0, 10000, 1000).tolist()\n",
    "list_10000 = np.random.randint(0, 10000, 10000).tolist()\n",
    "\n",
    "def Insertsort(arr):\n",
    "    l = len(arr)\n",
    "    for i in range(1, l):\n",
    "        key = arr[i]\n",
    "        j = i - 1\n",
    "        while j >= 0 and key < arr[j]:\n",
    "            arr[j+1] = arr[j]\n",
    "            j -= 1\n",
    "        arr[j+1] = key\n",
    "    \n",
    "    return arr\n",
    "\n",
    "def selection_sort(arr):\n",
    "    for i in range(len(arr) - 1):\n",
    "        min_index = i\n",
    "        for j in range(i, len(arr)):\n",
    "            if arr[j] < arr[min_index]:\n",
    "                min_index = j\n",
    "        if i != min_index:\n",
    "            arr[i], arr[min_index] = arr[min_index], arr[i]\n",
    "        \n",
    "    return arr\n",
    "\n",
    "def merge_sort(arr):\n",
    "    if len(arr) > 1:\n",
    "        mid = len(arr)//2\n",
    "        L = arr[:mid]\n",
    "        R = arr[mid:]\n",
    "\n",
    "        merge_sort(L)\n",
    "        merge_sort(R)\n",
    "\n",
    "        i = j = k = 0\n",
    "        while i < len(L) and j < len(R):\n",
    "            if L[i] < R[j]:\n",
    "                arr[k] = L[i]\n",
    "                i += 1\n",
    "            else:\n",
    "                arr[k] = R[j]\n",
    "                j += 1\n",
    "            k += 1\n",
    "\n",
    "        while i < len(L):\n",
    "            arr[k] = L[i]\n",
    "            i += 1\n",
    "            k += 1\n",
    "\n",
    "        while j < len(R):\n",
    "            arr[k] = R[j]\n",
    "            j += 1\n",
    "            k += 1\n",
    "    return arr\n",
    "\n",
    "def measure_time(sort_func, arr):\n",
    "    start_time = time.time()\n",
    "    sort_func(arr.copy())\n",
    "    end_time = time.time()\n",
    "\n",
    "    return end_time - start_time\n",
    "\n",
    "sort_algorithms = [Insertsort, selection_sort, merge_sort]\n",
    "results = {}\n",
    "\n",
    "for sort_func in sort_algorithms:\n",
    "    results[sort_func.__name__] = {}\n",
    "    for arr, size in [(list_100, 100), (list_1000, 1000), (list_10000, 10000)]:\n",
    "        time_taken = measure_time(sort_func, arr)\n",
    "        results[sort_func.__name__][f\"数列长度 {size}\"] = time_taken\n",
    "\n",
    "for algorithm, timings in results.items():\n",
    "    print(f\"{algorithm}:\")\n",
    "    for size, time_taken in timings.items():\n",
    "        print(f\" {size}: {time_taken:.6f} 秒\")"
   ]
  },
  {
   "cell_type": "markdown",
   "metadata": {},
   "source": [
    "**分析：\n",
    "在小规模数据集上，三者的时间用度差不多，当数据有序时，插入排序效能最高。\n",
    "插入排序和选择排序的平均时间复杂度都为O(n2)，归并排序为O(nlogn)，所以当数据规模增大时，归并排序开始表现出显著优势，插入排序和选择排序速度下降。所以对于大数据集，归并排序表现最好，而另外两种性能较差，应该采用效率更高的归并排序。"
   ]
  },
  {
   "cell_type": "markdown",
   "metadata": {},
   "source": [
    "6.使用python代码获取当前系统时间"
   ]
  },
  {
   "cell_type": "code",
   "execution_count": 8,
   "metadata": {},
   "outputs": [
    {
     "name": "stdout",
     "output_type": "stream",
     "text": [
      "当前系统时间： 2024-10-18 15:38:03\n"
     ]
    }
   ],
   "source": [
    "import time\n",
    "formatted_time = time.strftime(\"%Y-%m-%d %H:%M:%S\", time.localtime())\n",
    "print(\"当前系统时间：\", formatted_time)"
   ]
  },
  {
   "cell_type": "markdown",
   "metadata": {},
   "source": [
    "7.Homework/data文件夹下的stuGrade.csv文件中包含5位同学的学号、语文成绩、数学成绩和英语成绩，请先用记事本打开该文件，查看文件内容，然后编写Python程序，读取该文件，并计算出各科的平均成绩（保留2位小数）。"
   ]
  },
  {
   "cell_type": "code",
   "execution_count": 9,
   "metadata": {},
   "outputs": [
    {
     "name": "stdout",
     "output_type": "stream",
     "text": [
      "chinese    82.6\n",
      "math       81.0\n",
      "english    81.8\n",
      "dtype: float64\n"
     ]
    }
   ],
   "source": [
    "import pandas as pd\n",
    "\n",
    "data = pd.read_csv(\"C:/Users/Chlor/Downloads/stuGrade.csv\")\n",
    "\n",
    "average_scores = data[['chinese', 'math', 'english']].mean()\n",
    "average_scores = average_scores.round(2)\n",
    "\n",
    "print(average_scores)"
   ]
  },
  {
   "cell_type": "markdown",
   "metadata": {},
   "source": [
    "8.请在第7题的代码继续编写Python程序，将以下内容写入my.txt文件中，一并上传到github中。\n",
    "\n",
    "    第1行：你的学号和姓名\n",
    "\n",
    "    第2行：3门课程的平均成绩（任意课程），保留2位小数，以英文逗号间隔\n",
    "\n",
    "    第3行：系统当前时间，格式例如2020-01-01 12:00:00\n",
    "\n",
    "    第4行：两秒后的系统当前时间（利用sleep()方法）"
   ]
  },
  {
   "cell_type": "code",
   "execution_count": 11,
   "metadata": {},
   "outputs": [
    {
     "name": "stdout",
     "output_type": "stream",
     "text": [
      "信息已成功写入my.txt文件。\n"
     ]
    }
   ],
   "source": [
    "import pandas as pd\n",
    "\n",
    "data = pd.read_csv(\"C:/Users/Chlor/Downloads/stuGrade.csv\")\n",
    "\n",
    "average_scores = data[['chinese', 'math', 'english']].mean()\n",
    "average_scores = average_scores.round(2)\n",
    "\n",
    "current_time = time.strftime(\"%Y-%m-%d %H:%M:%S\", time.localtime())\n",
    "time.sleep(2)\n",
    "future_time = time.strftime(\"%Y-%m-%d %H:%M:%S\", time.localtime())\n",
    "\n",
    "with open(\"C:/Users/Chlor/OneDrive/桌面/my.txt\", 'w', encoding='utf-8') as file:\n",
    "    file.write(\"10233330402 周欣怡\\n\")\n",
    "    file.write(','.join([str(avg) for avg in average_scores]) + '\\n')\n",
    "    file.write(f\"{current_time}\\n\")\n",
    "    file.write(f\"{future_time}\\n\")\n",
    "\n",
    "print(\"信息已成功写入my.txt文件。\")"
   ]
  }
 ],
 "metadata": {
  "kernelspec": {
   "display_name": "Python 3",
   "language": "python",
   "name": "python3"
  },
  "language_info": {
   "codemirror_mode": {
    "name": "ipython",
    "version": 3
   },
   "file_extension": ".py",
   "mimetype": "text/x-python",
   "name": "python",
   "nbconvert_exporter": "python",
   "pygments_lexer": "ipython3",
   "version": "3.12.2"
  }
 },
 "nbformat": 4,
 "nbformat_minor": 2
}
